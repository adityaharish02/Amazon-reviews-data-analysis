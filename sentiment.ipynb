{
 "cells": [
  {
   "cell_type": "code",
   "execution_count": 37,
   "metadata": {
    "collapsed": true
   },
   "outputs": [],
   "source": [
    "import pandas as pd\n",
    "from sklearn.utils import shuffle\n",
    "import matplotlib.pyplot as plt"
   ]
  },
  {
   "cell_type": "code",
   "execution_count": 2,
   "metadata": {
    "collapsed": false
   },
   "outputs": [
    {
     "data": {
      "text/html": [
       "<div>\n",
       "<style scoped>\n",
       "    .dataframe tbody tr th:only-of-type {\n",
       "        vertical-align: middle;\n",
       "    }\n",
       "\n",
       "    .dataframe tbody tr th {\n",
       "        vertical-align: top;\n",
       "    }\n",
       "\n",
       "    .dataframe thead th {\n",
       "        text-align: right;\n",
       "    }\n",
       "</style>\n",
       "<table border=\"1\" class=\"dataframe\">\n",
       "  <thead>\n",
       "    <tr style=\"text-align: right;\">\n",
       "      <th></th>\n",
       "      <th>Product Name</th>\n",
       "      <th>Brand Name</th>\n",
       "      <th>Price</th>\n",
       "      <th>Rating</th>\n",
       "      <th>Reviews</th>\n",
       "      <th>Review Votes</th>\n",
       "    </tr>\n",
       "  </thead>\n",
       "  <tbody>\n",
       "    <tr>\n",
       "      <th>0</th>\n",
       "      <td>5.5 inch Factory unlocked world wide Note III ...</td>\n",
       "      <td>e passion</td>\n",
       "      <td>59.95</td>\n",
       "      <td>2</td>\n",
       "      <td>It was okay but the screen cracked after havin...</td>\n",
       "      <td>0.0</td>\n",
       "    </tr>\n",
       "    <tr>\n",
       "      <th>1</th>\n",
       "      <td>ALCATEL OneTouch Idol 3 Global Unlocked 4G LTE...</td>\n",
       "      <td>Alcatel</td>\n",
       "      <td>292.98</td>\n",
       "      <td>5</td>\n",
       "      <td>Here’s why I went with the Acatel Idol 3 at 4....</td>\n",
       "      <td>77.0</td>\n",
       "    </tr>\n",
       "    <tr>\n",
       "      <th>2</th>\n",
       "      <td>Alcatel One Touch Fierce 2, 4GB, 5\" Screen, Un...</td>\n",
       "      <td>Alcatel</td>\n",
       "      <td>118.99</td>\n",
       "      <td>3</td>\n",
       "      <td>it has become difficult to release me because ...</td>\n",
       "      <td>1.0</td>\n",
       "    </tr>\n",
       "    <tr>\n",
       "      <th>3</th>\n",
       "      <td>ALCATEL OneTouch Idol 3 Global Unlocked 4G LTE...</td>\n",
       "      <td>Alcatel</td>\n",
       "      <td>129.00</td>\n",
       "      <td>5</td>\n",
       "      <td>The best audio, the most vivid colors, fast en...</td>\n",
       "      <td>1.0</td>\n",
       "    </tr>\n",
       "    <tr>\n",
       "      <th>4</th>\n",
       "      <td>Apple iPhone 3GS 8GB Black Factory Unlocked / ...</td>\n",
       "      <td>Apple</td>\n",
       "      <td>33.00</td>\n",
       "      <td>5</td>\n",
       "      <td>My wife loves it. Works great. Thank you soon ...</td>\n",
       "      <td>0.0</td>\n",
       "    </tr>\n",
       "  </tbody>\n",
       "</table>\n",
       "</div>"
      ],
      "text/plain": [
       "<div>\n",
       "<style scoped>\n",
       "    .dataframe tbody tr th:only-of-type {\n",
       "        vertical-align: middle;\n",
       "    }\n",
       "\n",
       "    .dataframe tbody tr th {\n",
       "        vertical-align: top;\n",
       "    }\n",
       "\n",
       "    .dataframe thead th {\n",
       "        text-align: right;\n",
       "    }\n",
       "</style>\n",
       "<table border=\"1\" class=\"dataframe\">\n",
       "  <thead>\n",
       "    <tr style=\"text-align: right;\">\n",
       "      <th></th>\n",
       "      <th>Product Name</th>\n",
       "      <th>Brand Name</th>\n",
       "      <th>Price</th>\n",
       "      <th>Rating</th>\n",
       "      <th>Reviews</th>\n",
       "      <th>Review Votes</th>\n",
       "    </tr>\n",
       "  </thead>\n",
       "  <tbody>\n",
       "    <tr>\n",
       "      <th>0</th>\n",
       "      <td>5.5 inch Factory unlocked world wide Note III ...</td>\n",
       "      <td>e passion</td>\n",
       "      <td>59.95</td>\n",
       "      <td>2</td>\n",
       "      <td>It was okay but the screen cracked after havin...</td>\n",
       "      <td>0.0</td>\n",
       "    </tr>\n",
       "    <tr>\n",
       "      <th>1</th>\n",
       "      <td>ALCATEL OneTouch Idol 3 Global Unlocked 4G LTE...</td>\n",
       "      <td>Alcatel</td>\n",
       "      <td>292.98</td>\n",
       "      <td>5</td>\n",
       "      <td>Here’s why I went with the Acatel Idol 3 at 4....</td>\n",
       "      <td>77.0</td>\n",
       "    </tr>\n",
       "    <tr>\n",
       "      <th>2</th>\n",
       "      <td>Alcatel One Touch Fierce 2, 4GB, 5\" Screen, Un...</td>\n",
       "      <td>Alcatel</td>\n",
       "      <td>118.99</td>\n",
       "      <td>3</td>\n",
       "      <td>it has become difficult to release me because ...</td>\n",
       "      <td>1.0</td>\n",
       "    </tr>\n",
       "    <tr>\n",
       "      <th>3</th>\n",
       "      <td>ALCATEL OneTouch Idol 3 Global Unlocked 4G LTE...</td>\n",
       "      <td>Alcatel</td>\n",
       "      <td>129.00</td>\n",
       "      <td>5</td>\n",
       "      <td>The best audio, the most vivid colors, fast en...</td>\n",
       "      <td>1.0</td>\n",
       "    </tr>\n",
       "    <tr>\n",
       "      <th>4</th>\n",
       "      <td>Apple iPhone 3GS 8GB Black Factory Unlocked / ...</td>\n",
       "      <td>Apple</td>\n",
       "      <td>33.00</td>\n",
       "      <td>5</td>\n",
       "      <td>My wife loves it. Works great. Thank you soon ...</td>\n",
       "      <td>0.0</td>\n",
       "    </tr>\n",
       "  </tbody>\n",
       "</table>\n",
       "</div>"
      ]
     },
     "execution_count": 2,
     "metadata": {},
     "output_type": "execute_result"
    }
   ],
   "source": [
    "data_df = pd.read_csv('C:\\Users\\TOSHIBA-PC\\Desktop\\spmf (1)\\Amazon_Unlocked_Mobile.csv')\n",
    "data_df = data_df.dropna()\n",
    "data_df = data_df[data_df['Rating'] != 0]\n",
    "data_df = shuffle(data_df[:5000])\n",
    "data_df = data_df.reset_index(drop=True)\n",
    "data_df.head()\n"
   ]
  },
  {
   "cell_type": "code",
   "execution_count": 3,
   "metadata": {},
   "outputs": [
    {
     "name": "stderr",
     "output_type": "stream",
     "text": [
      "C:\\Python27\\lib\\site-packages\\nltk\\twitter\\__init__.py:20: UserWarning: The twython library has not been installed. Some functionality from the twitter package will not be available.\n  warnings.warn(\"The twython library has not been installed. \"\n"
     ]
    }
   ],
   "source": [
    "all_reviews = data_df['Reviews']\n",
    "all_sent_values = []\n",
    "all_sentiments = []\n",
    "\n",
    "from nltk.sentiment.vader import SentimentIntensityAnalyzer\n",
    "def sentiment_value(paragraph):\n",
    "    analyser = SentimentIntensityAnalyzer()\n",
    "    result = analyser.polarity_scores(paragraph)\n",
    "    score = result['compound']\n",
    "    return round(score,1)\n"
   ]
  },
  {
   "cell_type": "code",
   "execution_count": null,
   "metadata": {},
   "outputs": [],
   "source": [
    "for i in range(0,5000):\n",
    "    all_sent_values.append(sentiment_value(all_reviews[i]))\n"
   ]
  },
  {
   "cell_type": "code",
   "execution_count": 9,
   "metadata": {},
   "outputs": [],
   "source": [
    "temp_data = data_df[0:20000]"
   ]
  },
  {
   "cell_type": "markdown",
   "metadata": {},
   "source": [
    "Intervals\n",
    "[ -1, -0.5) : 1, V.Negative\n",
    "[-0.5, 0) : 2, Negative\n",
    "[0] : 3, Neutral\n",
    "(0, 0.5) : 4, Positive\n",
    "[0.5, 1] : 5, V.Positive"
   ]
  },
  {
   "cell_type": "code",
   "execution_count": 11,
   "metadata": {},
   "outputs": [],
   "source": [
    "SENTIMENT_VALUE = []\n",
    "SENTIMENT = []\n",
    "for i in range(0,5000):\n",
    "    sent = all_sent_values[i]\n",
    "    if (sent<=1 and sent>=0.5):\n",
    "        SENTIMENT.append('V.Positive')\n",
    "        SENTIMENT_VALUE.append(5)\n",
    "    elif (sent<0.5 and sent>0):\n",
    "        SENTIMENT.append('Positive')\n",
    "        SENTIMENT_VALUE.append(4)\n",
    "    elif (sent==0):\n",
    "        SENTIMENT.append('Neutral')\n",
    "        SENTIMENT_VALUE.append(3)\n",
    "    elif (sent<0 and sent>=-0.5):\n",
    "        SENTIMENT.append('Negative')\n",
    "        SENTIMENT_VALUE.append(2)\n",
    "    else:\n",
    "        SENTIMENT.append('V.Negative')\n",
    "        SENTIMENT_VALUE.append(1)"
   ]
  },
  {
   "cell_type": "code",
   "execution_count": 12,
   "metadata": {},
   "outputs": [
    {
     "name": "stderr",
     "output_type": "stream",
     "text": [
      "C:\\Python27\\lib\\site-packages\\ipykernel_launcher.py:1: SettingWithCopyWarning: \nA value is trying to be set on a copy of a slice from a DataFrame.\nTry using .loc[row_indexer,col_indexer] = value instead\n\nSee the caveats in the documentation: http://pandas.pydata.org/pandas-docs/stable/indexing.html#indexing-view-versus-copy\n  \"\"\"Entry point for launching an IPython kernel.\nC:\\Python27\\lib\\site-packages\\ipykernel_launcher.py:2: SettingWithCopyWarning: \nA value is trying to be set on a copy of a slice from a DataFrame.\nTry using .loc[row_indexer,col_indexer] = value instead\n\nSee the caveats in the documentation: http://pandas.pydata.org/pandas-docs/stable/indexing.html#indexing-view-versus-copy\n  \n"
     ]
    }
   ],
   "source": [
    "temp_data['SENTIMENT_VALUE'] = SENTIMENT_VALUE\n",
    "temp_data['SENTIMENT'] = SENTIMENT"
   ]
  },
  {
   "cell_type": "code",
   "execution_count": 13,
   "metadata": {},
   "outputs": [
    {
     "data": {
      "text/html": [
       "<div>\n",
       "<style scoped>\n",
       "    .dataframe tbody tr th:only-of-type {\n",
       "        vertical-align: middle;\n",
       "    }\n",
       "\n",
       "    .dataframe tbody tr th {\n",
       "        vertical-align: top;\n",
       "    }\n",
       "\n",
       "    .dataframe thead th {\n",
       "        text-align: right;\n",
       "    }\n",
       "</style>\n",
       "<table border=\"1\" class=\"dataframe\">\n",
       "  <thead>\n",
       "    <tr style=\"text-align: right;\">\n",
       "      <th></th>\n",
       "      <th>Product Name</th>\n",
       "      <th>Brand Name</th>\n",
       "      <th>Price</th>\n",
       "      <th>Rating</th>\n",
       "      <th>Reviews</th>\n",
       "      <th>Review Votes</th>\n",
       "      <th>SENTIMENT_VALUE</th>\n",
       "      <th>SENTIMENT</th>\n",
       "    </tr>\n",
       "  </thead>\n",
       "  <tbody>\n",
       "    <tr>\n",
       "      <th>0</th>\n",
       "      <td>5.5 inch Factory unlocked world wide Note III ...</td>\n",
       "      <td>e passion</td>\n",
       "      <td>59.95</td>\n",
       "      <td>2</td>\n",
       "      <td>It was okay but the screen cracked after havin...</td>\n",
       "      <td>0.0</td>\n",
       "      <td>4</td>\n",
       "      <td>Positive</td>\n",
       "    </tr>\n",
       "    <tr>\n",
       "      <th>1</th>\n",
       "      <td>ALCATEL OneTouch Idol 3 Global Unlocked 4G LTE...</td>\n",
       "      <td>Alcatel</td>\n",
       "      <td>292.98</td>\n",
       "      <td>5</td>\n",
       "      <td>Here’s why I went with the Acatel Idol 3 at 4....</td>\n",
       "      <td>77.0</td>\n",
       "      <td>5</td>\n",
       "      <td>V.Positive</td>\n",
       "    </tr>\n",
       "    <tr>\n",
       "      <th>2</th>\n",
       "      <td>Alcatel One Touch Fierce 2, 4GB, 5\" Screen, Un...</td>\n",
       "      <td>Alcatel</td>\n",
       "      <td>118.99</td>\n",
       "      <td>3</td>\n",
       "      <td>it has become difficult to release me because ...</td>\n",
       "      <td>1.0</td>\n",
       "      <td>1</td>\n",
       "      <td>V.Negative</td>\n",
       "    </tr>\n",
       "    <tr>\n",
       "      <th>3</th>\n",
       "      <td>ALCATEL OneTouch Idol 3 Global Unlocked 4G LTE...</td>\n",
       "      <td>Alcatel</td>\n",
       "      <td>129.00</td>\n",
       "      <td>5</td>\n",
       "      <td>The best audio, the most vivid colors, fast en...</td>\n",
       "      <td>1.0</td>\n",
       "      <td>5</td>\n",
       "      <td>V.Positive</td>\n",
       "    </tr>\n",
       "    <tr>\n",
       "      <th>4</th>\n",
       "      <td>Apple iPhone 3GS 8GB Black Factory Unlocked / ...</td>\n",
       "      <td>Apple</td>\n",
       "      <td>33.00</td>\n",
       "      <td>5</td>\n",
       "      <td>My wife loves it. Works great. Thank you soon ...</td>\n",
       "      <td>0.0</td>\n",
       "      <td>5</td>\n",
       "      <td>V.Positive</td>\n",
       "    </tr>\n",
       "  </tbody>\n",
       "</table>\n",
       "</div>"
      ],
      "text/plain": [
       "<div>\n",
       "<style scoped>\n",
       "    .dataframe tbody tr th:only-of-type {\n",
       "        vertical-align: middle;\n",
       "    }\n",
       "\n",
       "    .dataframe tbody tr th {\n",
       "        vertical-align: top;\n",
       "    }\n",
       "\n",
       "    .dataframe thead th {\n",
       "        text-align: right;\n",
       "    }\n",
       "</style>\n",
       "<table border=\"1\" class=\"dataframe\">\n",
       "  <thead>\n",
       "    <tr style=\"text-align: right;\">\n",
       "      <th></th>\n",
       "      <th>Product Name</th>\n",
       "      <th>Brand Name</th>\n",
       "      <th>Price</th>\n",
       "      <th>Rating</th>\n",
       "      <th>Reviews</th>\n",
       "      <th>Review Votes</th>\n",
       "      <th>SENTIMENT_VALUE</th>\n",
       "      <th>SENTIMENT</th>\n",
       "    </tr>\n",
       "  </thead>\n",
       "  <tbody>\n",
       "    <tr>\n",
       "      <th>0</th>\n",
       "      <td>5.5 inch Factory unlocked world wide Note III ...</td>\n",
       "      <td>e passion</td>\n",
       "      <td>59.95</td>\n",
       "      <td>2</td>\n",
       "      <td>It was okay but the screen cracked after havin...</td>\n",
       "      <td>0.0</td>\n",
       "      <td>4</td>\n",
       "      <td>Positive</td>\n",
       "    </tr>\n",
       "    <tr>\n",
       "      <th>1</th>\n",
       "      <td>ALCATEL OneTouch Idol 3 Global Unlocked 4G LTE...</td>\n",
       "      <td>Alcatel</td>\n",
       "      <td>292.98</td>\n",
       "      <td>5</td>\n",
       "      <td>Here’s why I went with the Acatel Idol 3 at 4....</td>\n",
       "      <td>77.0</td>\n",
       "      <td>5</td>\n",
       "      <td>V.Positive</td>\n",
       "    </tr>\n",
       "    <tr>\n",
       "      <th>2</th>\n",
       "      <td>Alcatel One Touch Fierce 2, 4GB, 5\" Screen, Un...</td>\n",
       "      <td>Alcatel</td>\n",
       "      <td>118.99</td>\n",
       "      <td>3</td>\n",
       "      <td>it has become difficult to release me because ...</td>\n",
       "      <td>1.0</td>\n",
       "      <td>1</td>\n",
       "      <td>V.Negative</td>\n",
       "    </tr>\n",
       "    <tr>\n",
       "      <th>3</th>\n",
       "      <td>ALCATEL OneTouch Idol 3 Global Unlocked 4G LTE...</td>\n",
       "      <td>Alcatel</td>\n",
       "      <td>129.00</td>\n",
       "      <td>5</td>\n",
       "      <td>The best audio, the most vivid colors, fast en...</td>\n",
       "      <td>1.0</td>\n",
       "      <td>5</td>\n",
       "      <td>V.Positive</td>\n",
       "    </tr>\n",
       "    <tr>\n",
       "      <th>4</th>\n",
       "      <td>Apple iPhone 3GS 8GB Black Factory Unlocked / ...</td>\n",
       "      <td>Apple</td>\n",
       "      <td>33.00</td>\n",
       "      <td>5</td>\n",
       "      <td>My wife loves it. Works great. Thank you soon ...</td>\n",
       "      <td>0.0</td>\n",
       "      <td>5</td>\n",
       "      <td>V.Positive</td>\n",
       "    </tr>\n",
       "  </tbody>\n",
       "</table>\n",
       "</div>"
      ]
     },
     "execution_count": 13,
     "metadata": {},
     "output_type": "execute_result"
    }
   ],
   "source": [
    "temp_data.head(5)"
   ]
  },
  {
   "cell_type": "code",
   "execution_count": 25,
   "metadata": {},
   "outputs": [],
   "source": [
    "counter = 0\n",
    "for i in range(0,5000):\n",
    "    if (abs(temp_data['Rating'][i]-temp_data['SENTIMENT_VALUE'][i])>1):\n",
    "        counter += 1\n"
   ]
  },
  {
   "cell_type": "code",
   "execution_count": 34,
   "metadata": {},
   "outputs": [],
   "source": [
    "accuracy =  temp_data.shape[0] - counter\n",
    "accuracy = float(accuracy) / float(temp_data.shape[0])\n",
    "percent_accuracy = accuracy*100"
   ]
  },
  {
   "cell_type": "code",
   "execution_count": 35,
   "metadata": {},
   "outputs": [
    {
     "data": {
      "text/plain": [
       "76.25999999999999"
      ]
     },
     "execution_count": 35,
     "metadata": {},
     "output_type": "execute_result"
    }
   ],
   "source": [
    "percent_accuracy"
   ]
  },
  {
   "cell_type": "code",
   "execution_count": 39,
   "metadata": {},
   "outputs": [
    {
     "data": {
      "image/png": "[encoded data removed]",
      "text/plain": [
       "<matplotlib.figure.Figure at 0xe5df430>"
      ]
     },
     "metadata": {},
     "output_type": "display_data"
    }
   ],
   "source": [
    "xaxis = []\n",
    "for i in range(0,5000):\n",
    "    xaxis.append(i)\n",
    "\n",
    "ylabel_new_1 = all_sent_values[:5000]\n",
    "\n",
    "xlabel = xaxis\n",
    "plt.figure(figsize=(9,9))\n",
    "plt.xlabel('ReviewIndex')\n",
    "plt.ylabel('SentimentValue(-1 to 1)')\n",
    "plt.plot(xlabel, ylabel_new_1, 'ro',  alpha=0.04)\n",
    "\n",
    "plt.title('Scatter Intensity Plot of Sentiments')\n",
    "plt.show()"
   ]
  },
  {
   "cell_type": "markdown",
   "metadata": {},
   "source": [
    "Observation: Sentiment variation is concentrated towards positivity."
   ]
  },
  {
   "cell_type": "code",
   "execution_count": null,
   "metadata": {},
   "outputs": [],
   "source": []
  }
 ],
 "metadata": {
  "kernelspec": {
   "display_name": "Python 2",
   "language": "python",
   "name": "python2"
  },
  "language_info": {
   "codemirror_mode": {
    "name": "ipython",
    "version": 2
   },
   "file_extension": ".py",
   "mimetype": "text/x-python",
   "name": "python",
   "nbconvert_exporter": "python",
   "pygments_lexer": "ipython2",
   "version": "2.7.6"
  }
 },
 "nbformat": 4,
 "nbformat_minor": 0
}
